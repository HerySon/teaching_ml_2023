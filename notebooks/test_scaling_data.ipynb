{
 "cells": [
  {
   "cell_type": "code",
   "execution_count": 46,
   "metadata": {},
   "outputs": [
    {
     "name": "stdout",
     "output_type": "stream",
     "text": [
      "Dimensions de l'échantillon : (457374, 183)\n"
     ]
    }
   ],
   "source": [
    "import pandas as pd\n",
    "\n",
    "df = pd.read_csv('teaching_ml_2023/3go_en.openfoodfacts.org.products.csv', delimiter='\\t', low_memory=False)\n",
    "# On fait un échantillon aléatoire de 30% des données\n",
    "sampled_df = df.sample(frac=0.3, random_state=42)\n",
    "\n",
    "print(f\"Dimensions de l'échantillon : {sampled_df.shape}\")"
   ]
  },
  {
   "cell_type": "code",
   "execution_count": 48,
   "metadata": {},
   "outputs": [
    {
     "name": "stdout",
     "output_type": "stream",
     "text": [
      "                  code                                                url  \\\n",
      "832716   3596690138040  http://world-en.openfoodfacts.org/product/3596...   \n",
      "1350068  8413925167109  http://world-en.openfoodfacts.org/product/8413...   \n",
      "140593   0055577105030  http://world-en.openfoodfacts.org/product/0055...   \n",
      "553186   2688495046840  http://world-en.openfoodfacts.org/product/2688...   \n",
      "874478   3701233511048  http://world-en.openfoodfacts.org/product/3701...   \n",
      "\n",
      "         creator   created_t      created_datetime  last_modified_t  \\\n",
      "832716   kiliweb  1515519019  2018-01-09T17:30:19Z       1564114742   \n",
      "1350068  kiliweb  1575299269  2019-12-02T15:07:49Z       1575302949   \n",
      "140593   kiliweb  1598379639  2020-08-25T18:20:39Z       1598734978   \n",
      "553186   kiliweb  1550343717  2019-02-16T19:01:57Z       1557414588   \n",
      "874478   kiliweb  1582313971  2020-02-21T19:39:31Z       1582313972   \n",
      "\n",
      "        last_modified_datetime                  product_name generic_name  \\\n",
      "832716    2019-07-26T04:19:02Z  Escalope Carbonara Pere Dodu          NaN   \n",
      "1350068   2019-12-02T16:09:09Z              Bombon cacahuete          NaN   \n",
      "140593    2020-08-29T21:02:58Z        Muffins faible en gras          NaN   \n",
      "553186    2019-05-09T15:09:48Z        Saucisson sec pur porc          NaN   \n",
      "874478    2020-02-21T19:39:32Z                         Sirop          NaN   \n",
      "\n",
      "        quantity  ... carbon-footprint-from-meat-or-fish_100g  \\\n",
      "832716       NaN  ...                                     NaN   \n",
      "1350068      NaN  ...                                     NaN   \n",
      "140593       NaN  ...                                     NaN   \n",
      "553186       NaN  ...                                     NaN   \n",
      "874478       NaN  ...                                     NaN   \n",
      "\n",
      "        nutrition-score-fr_100g nutrition-score-uk_100g glycemic-index_100g  \\\n",
      "832716                      NaN                     NaN                 NaN   \n",
      "1350068                     NaN                     NaN                 NaN   \n",
      "140593                      NaN                     NaN                 NaN   \n",
      "553186                     24.0                     NaN                 NaN   \n",
      "874478                      NaN                     NaN                 NaN   \n",
      "\n",
      "        water-hardness_100g choline_100g phylloquinone_100g beta-glucan_100g  \\\n",
      "832716                  NaN          NaN                NaN              NaN   \n",
      "1350068                 NaN          NaN                NaN              NaN   \n",
      "140593                  NaN          NaN                NaN              NaN   \n",
      "553186                  NaN          NaN                NaN              NaN   \n",
      "874478                  NaN          NaN                NaN              NaN   \n",
      "\n",
      "        inositol_100g carnitine_100g  \n",
      "832716            NaN            NaN  \n",
      "1350068           NaN            NaN  \n",
      "140593            NaN            NaN  \n",
      "553186            NaN            NaN  \n",
      "874478            NaN            NaN  \n",
      "\n",
      "[5 rows x 183 columns]\n"
     ]
    }
   ],
   "source": [
    "#### Standardisation ####\n",
    "from sklearn.preprocessing import StandardScaler\n",
    "\n",
    "# On prend les colonnes de la standardisation\n",
    "numeric_cols = ['energy_100g', 'fat_100g', 'carbohydrates_100g', 'proteins_100g']\n",
    "\n",
    "# On remplace les valeurs manquantes par la moyenne de chaque colonne\n",
    "sampled_df[numeric_cols] = sampled_df[numeric_cols].fillna(sampled_df[numeric_cols].mean())\n",
    "\n",
    "scaler = StandardScaler()\n",
    "# On applique la standardisation aux colonnes\n",
    "sampled_df[numeric_cols] = scaler.fit_transform(sampled_df[numeric_cols])\n",
    "\n",
    "print(sampled_df.head())\n"
   ]
  },
  {
   "cell_type": "code",
   "execution_count": 3,
   "metadata": {},
   "outputs": [],
   "source": [
    "import pandas as pd\n",
    "from sklearn.preprocessing import MinMaxScaler, StandardScaler\n",
    "\n",
    "def scaling_data(dataset, how='standard'):\n",
    "    \"\"\"\n",
    "    Cette fonction prend en entrée un dataset au format CSV et applique le scaling\n",
    "    des données selon la méthode choisie (MinMax ou Standard).\n",
    "    La fonction renvoie un DataFrame avec les données scalées.\n",
    "    \"\"\"\n",
    "    df = pd.read_csv(dataset, delimiter='\\t', low_memory=False)\n",
    "    \n",
    "    # Sélectionner les colonnes pour le scaling\n",
    "    numeric_cols = ['energy_100g', 'fat_100g', 'carbohydrates_100g', 'proteins_100g']\n",
    "    \n",
    "    # Remplacer les valeurs manquantes par la médiane de chaque colonne\n",
    "    df[numeric_cols] = df[numeric_cols].fillna(df[numeric_cols].median())\n",
    "    \n",
    "    # Créer le scaler correspondant\n",
    "    if how == 'minmax':\n",
    "        scaler = MinMaxScaler()\n",
    "    else:\n",
    "        scaler = StandardScaler()\n",
    "    \n",
    "    # Appliquer le scaling aux colonnes numériques\n",
    "    df[numeric_cols] = scaler.fit_transform(df[numeric_cols])\n",
    "    \n",
    "    # Renvoyer le DataFrame avec les données scalées\n",
    "    return df"
   ]
  }
 ],
 "metadata": {
  "kernelspec": {
   "display_name": "Python 3",
   "language": "python",
   "name": "python3"
  },
  "language_info": {
   "codemirror_mode": {
    "name": "ipython",
    "version": 3
   },
   "file_extension": ".py",
   "mimetype": "text/x-python",
   "name": "python",
   "nbconvert_exporter": "python",
   "pygments_lexer": "ipython3",
   "version": "3.9.7"
  },
  "orig_nbformat": 4
 },
 "nbformat": 4,
 "nbformat_minor": 2
}
