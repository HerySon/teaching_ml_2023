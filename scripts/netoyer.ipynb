{
 "cells": [
  {
   "attachments": {},
   "cell_type": "markdown",
   "id": "abd49bae",
   "metadata": {},
   "source": [
    "data= pd.read_csv(\"\") charger le dataset "
   ]
  },
  {
   "cell_type": "code",
   "execution_count": 3,
   "id": "c5b14d80-01ac-4447-9029-1388ecb113b6",
   "metadata": {},
   "outputs": [],
   "source": [
    "# recuper 10% du dataset pour alléger la mémoire  \n",
    "data_alleger=data.sample(frac=0.1) "
   ]
  },
  {
   "attachments": {},
   "cell_type": "markdown",
   "id": "d3fba606",
   "metadata": {},
   "source": [
    "\n",
    "  fonction qui donne des informations pour aider à décider quelle feature on doit conserver, dans le cas où\n",
    "on a 2 features qui semblent correspondre à la même notion."
   ]
  },
  {
   "cell_type": "code",
   "execution_count": null,
   "id": "f1aa8230",
   "metadata": {},
   "outputs": [],
   "source": [
    "def compare_na(df, col1, col2):    \n",
    "#Elle remonte 3 informations :\n",
    "# de cas où la valeur de la colonne 1 est renseignée, mais pas la 2\n",
    "#de cas où la valeur de la colonne 2 est renseignée, mais pas la 1\n",
    "#de cas où les valeurs de la colonne 1 et 2 sont renseignées toutes les deux\n",
    "\n",
    "    num_rows, num_cols = df.shape\n",
    "    \n",
    "    col1notnull_col2null = round ( ( ( ( df[ (df[col1].notnull()) & ( df[col2].isna() ) ][[col1,col2]].shape[0] ) / num_rows ) * 100), 5)\n",
    "    col2notnull_col1null = round ( ( ( ( df[ (df[col2].notnull()) & ( df[col1].isna() ) ][[col1,col2]].shape[0] ) / num_rows ) * 100), 5)\n",
    "    col1notnull_col2notnull = round ( ( ( ( df[ (df[col1].notnull()) & ( df[col2].notnull() ) ][[col1,col2]].shape[0] ) / num_rows ) * 100), 5)\n",
    "    \n",
    "    print(f'Cas où {col1} est renseigné mais pas {col2} : {col1notnull_col2null}%')\n",
    "    print(f'Cas où {col2} est renseigné mais pas {col1} : {col2notnull_col1null}%')\n",
    "    print(f'Cas où {col1} et {col2} sont renseignés tous les deux : {col1notnull_col2notnull}%')"
   ]
  },
  {
   "attachments": {},
   "cell_type": "markdown",
   "id": "2a01e3fc",
   "metadata": {},
   "source": [
    "Analyse plus détaillée des données et des colonnes manquantes"
   ]
  },
  {
   "cell_type": "code",
   "execution_count": null,
   "id": "e0519817",
   "metadata": {},
   "outputs": [],
   "source": [
    "def analyse_donnees_manquantes(df, seuil = .7):\n",
    "    nb_rows, nb_cols = df.shape\n",
    "\n",
    "    nb_col_many_nulls = (((df.isnull().sum()) / nb_rows) > seuil)\n",
    "\n",
    "    percentage_col_many_nulls = round(((nb_col_many_nulls.sum()) / nb_cols) * 100, 2)\n",
    "\n",
    "    message = ( \n",
    "        f\"{percentage_col_many_nulls} % des colonnes ont >= {seuil*100:0.0f}% de données manquantes \\n\"  \n",
    "        f\"Ces colonnes sont : \\n\"\n",
    "        f\"{nb_col_many_nulls[nb_col_many_nulls].to_string()}\"\n",
    "    )\n",
    "\n",
    "    print(message)\n",
    "    \n",
    "analyse_donnees_manquantes(food)"
   ]
  },
  {
   "attachments": {},
   "cell_type": "markdown",
   "id": "7e8d0787",
   "metadata": {},
   "source": [
    "suppression des features dont le nombre de données est inférieur au seuil minimum défini"
   ]
  },
  {
   "cell_type": "code",
   "execution_count": null,
   "id": "4f153ac1",
   "metadata": {},
   "outputs": [],
   "source": [
    "min_percentage_feature_values_tokeep = collections.defaultdict(lambda : 0.01)\n",
    "#min_percentage_feature_values_tokeep['vitamin-b2_100g'] = 0.01  # Use this to have specific percentage value \n",
    "\n",
    "def drop_lowquality_values(df, min_percentage_feature_values_tokeep):\n",
    "    num_rows, num_cols = df.shape\n",
    "    \n",
    "    for column_name in df.columns:\n",
    "        if (len(food[food[column_name].notnull()]) < min_percentage_feature_values_tokeep[column_name] * num_rows):\n",
    "            df.drop([column_name], axis='columns', inplace = True)"
   ]
  },
  {
   "attachments": {},
   "cell_type": "markdown",
   "id": "4bb9028e",
   "metadata": {},
   "source": [
    "Nettoyage des données pour les features cibles¶\n",
    "Conserver uniquement les features retenues¶\n"
   ]
  },
  {
   "cell_type": "code",
   "execution_count": null,
   "id": "0859258e",
   "metadata": {},
   "outputs": [],
   "source": [
    "features_list = ['code', 'last_modified_t', 'product_name' , 'states_tags', 'main_category_fr','brands','brands_tags', 'nutriscore_grade','energy_100g','sugars_100g','salt_100g','saturated-fat_100g','fiber_100g','proteins_100g','ingredients_from_palm_oil_n','pnns_groups_2','pnns_groups_1','labels_tags','countries_tags','additives_tags','additives_n','ingredients_text','image_url', 'nova_group']\n",
    "food = food[features_list]"
   ]
  },
  {
   "cell_type": "code",
   "execution_count": null,
   "id": "39e33e12",
   "metadata": {},
   "outputs": [],
   "source": [
    "#Ajout d'une feature numérique de scoring pour le nutrition grade¶\n",
    "def convert_category_to_number(cat):\n",
    "    cat_table = {\n",
    "        'a' : 5,\n",
    "        'b' : 4,\n",
    "        'c' : 3,\n",
    "        'd' : 2,\n",
    "        'e' : 1,\n",
    "        'nan' : None,\n",
    "    }\n",
    "    \n",
    "    return (cat_table.get(cat,None))\n",
    "\n",
    "\n",
    "food_cat = pd.DataFrame(food['nutriscore_grade'].apply(convert_category_to_number))\n",
    "\n",
    "food['nutrition_scoring'] = food_cat"
   ]
  }
 ],
 "metadata": {
  "kernelspec": {
   "display_name": "Python 3 (ipykernel)",
   "language": "python",
   "name": "python3"
  },
  "language_info": {
   "codemirror_mode": {
    "name": "ipython",
    "version": 3
   },
   "file_extension": ".py",
   "mimetype": "text/x-python",
   "name": "python",
   "nbconvert_exporter": "python",
   "pygments_lexer": "ipython3",
   "version": "3.9.13"
  }
 },
 "nbformat": 4,
 "nbformat_minor": 5
}
